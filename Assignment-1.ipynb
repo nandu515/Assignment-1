{
 "cells": [
  {
   "cell_type": "code",
   "execution_count": 6,
   "id": "1e736bb0-bb94-484d-a034-e0e92191778a",
   "metadata": {},
   "outputs": [
    {
     "name": "stdout",
     "output_type": "stream",
     "text": [
      "string ['asdf', 1, 2, 2.5, ';lkj'] 8.2 (7, 5, 'knk', 1.43)\n"
     ]
    }
   ],
   "source": [
    "#Q1 creating the variables\n",
    "var1=\"string\"\n",
    "L=[\"asdf\",1,2,2.5,';lkj']\n",
    "f=8.2\n",
    "Tuple=(7,5,'knk',1.43)\n",
    "print(var1,L,f,Tuple)"
   ]
  },
  {
   "cell_type": "code",
   "execution_count": null,
   "id": "b139aacb-8147-4413-9e47-f379069ab454",
   "metadata": {},
   "outputs": [],
   "source": []
  },
  {
   "cell_type": "code",
   "execution_count": 7,
   "id": "cd13daf0-158c-415d-a053-f3256c7ffc70",
   "metadata": {},
   "outputs": [
    {
     "name": "stdout",
     "output_type": "stream",
     "text": [
      "asdf <class 'str'>\n",
      "1 <class 'int'>\n",
      "2 <class 'int'>\n",
      "2.5 <class 'float'>\n",
      ";lkj <class 'str'>\n",
      "name <class 'str'>\n",
      "58 <class 'int'>\n",
      "62 <class 'int'>\n",
      "101 <class 'int'>\n",
      "(5+5j) <class 'complex'>\n"
     ]
    }
   ],
   "source": [
    "#Q4 creating list and printing\n",
    "L=[\"asdf\",1,2,2.5,';lkj','name',58,62,101,5+5j]\n",
    "for list in L:\n",
    "    print(list,type(list))\n"
   ]
  },
  {
   "cell_type": "code",
   "execution_count": null,
   "id": "1164fb69-8ae5-4182-9464-63ff18a46892",
   "metadata": {},
   "outputs": [],
   "source": []
  },
  {
   "cell_type": "code",
   "execution_count": 11,
   "id": "1e0c9eeb-3205-436f-90f3-b21071f73f02",
   "metadata": {},
   "outputs": [
    {
     "name": "stdout",
     "output_type": "stream",
     "text": [
      "1 is purely divisible by 2 and can be divided 4 times.\n"
     ]
    }
   ],
   "source": [
    "'''Q5.Using a while loop, verify if the number A is purely divisible by number B and if so then how many\n",
    "times it can be divisible.'''\n",
    "A = 16\n",
    "B = 2\n",
    "\n",
    "count = 0\n",
    "\n",
    "while A % B == 0:\n",
    "    A = A // B\n",
    "    count += 1\n",
    "\n",
    "if count > 0:\n",
    "    print(A,\"is purely divisible by\",B,\"and can be divided\",count,\"times.\")\n",
    "else:\n",
    "    print(A,\"is not purely divisible by\",B)\n"
   ]
  },
  {
   "cell_type": "code",
   "execution_count": 14,
   "id": "44c0ae6a-22a2-4f92-98ce-2b336d188d10",
   "metadata": {},
   "outputs": [
    {
     "name": "stdout",
     "output_type": "stream",
     "text": [
      "11 is not divisible by 3\n",
      "12 is divisible by 3\n",
      "13 is not divisible by 3\n",
      "14 is not divisible by 3\n",
      "15 is divisible by 3\n",
      "16 is not divisible by 3\n",
      "17 is not divisible by 3\n",
      "18 is divisible by 3\n",
      "19 is not divisible by 3\n",
      "20 is not divisible by 3\n",
      "21 is divisible by 3\n",
      "22 is not divisible by 3\n",
      "23 is not divisible by 3\n",
      "24 is divisible by 3\n",
      "25 is not divisible by 3\n",
      "26 is not divisible by 3\n",
      "27 is divisible by 3\n",
      "28 is not divisible by 3\n",
      "29 is not divisible by 3\n",
      "30 is divisible by 3\n",
      "31 is not divisible by 3\n",
      "32 is not divisible by 3\n",
      "33 is divisible by 3\n",
      "34 is not divisible by 3\n",
      "35 is not divisible by 3\n"
     ]
    }
   ],
   "source": [
    "'''Q6.Create a list containing 25 int type data. Using for loop and if-else condition print if the element is\n",
    "divisible by 3 or not.'''\n",
    "List=[11,12,13,14,15,16,17,18,19,20,21,22,23,24,25,26,27,28,29,30,31,32,33,34,35]\n",
    "for i in List:\n",
    "    if i%3==0:\n",
    "        print(i,\"is divisible by 3\")\n",
    "    else:\n",
    "        print(i,\"is not divisible by 3\")"
   ]
  },
  {
   "cell_type": "code",
   "execution_count": null,
   "id": "dddf8247-146f-42cf-b85d-49c2a3e56c9d",
   "metadata": {},
   "outputs": [],
   "source": []
  }
 ],
 "metadata": {
  "kernelspec": {
   "display_name": "Python 3 (ipykernel)",
   "language": "python",
   "name": "python3"
  },
  "language_info": {
   "codemirror_mode": {
    "name": "ipython",
    "version": 3
   },
   "file_extension": ".py",
   "mimetype": "text/x-python",
   "name": "python",
   "nbconvert_exporter": "python",
   "pygments_lexer": "ipython3",
   "version": "3.10.8"
  }
 },
 "nbformat": 4,
 "nbformat_minor": 5
}
